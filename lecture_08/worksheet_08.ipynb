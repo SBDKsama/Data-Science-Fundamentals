{
 "cells": [
  {
   "attachments": {},
   "cell_type": "markdown",
   "metadata": {},
   "source": [
    "# Worksheet 08\n",
    "\n",
    "Name: Haotian Shangguan\n",
    "\n",
    "UID: \n",
    "\n",
    "### Topics\n",
    "\n",
    "- Soft Clustering\n",
    "- Clustering Aggregation\n",
    "\n",
    "### Probability Review\n",
    "\n",
    "Read through [the following](https://medium.com/@gallettilance/overview-of-probability-3272b72c82c8)\n",
    "\n",
    "### Soft Clustering\n",
    "\n",
    "We generate 10 data points that come from a normal distribution with mean 5 and variance 1."
   ]
  },
  {
   "cell_type": "code",
   "execution_count": 88,
   "metadata": {},
   "outputs": [
    {
     "name": "stdout",
     "output_type": "stream",
     "text": [
      "[4.353397490644132, 4.292259606811262, 5.152955328667516, 5.089909419572661, 4.880537211208169, 4.591631742727878, 6.158016902665992, 5.5356298438378175, 4.091653733635787, 4.537787615142324]\n"
     ]
    }
   ],
   "source": [
    "import random\n",
    "import numpy as np\n",
    "from sklearn.cluster import KMeans\n",
    "\n",
    "mean = 5\n",
    "stdev = 1\n",
    "\n",
    "s1 = np.random.normal(mean, stdev, 10).tolist()\n",
    "print(s1)"
   ]
  },
  {
   "cell_type": "markdown",
   "metadata": {},
   "source": [
    "a) Generate 10 more data points, this time coming from a normal distribution with mean 8 and variance 1."
   ]
  },
  {
   "cell_type": "code",
   "execution_count": 89,
   "metadata": {},
   "outputs": [
    {
     "name": "stdout",
     "output_type": "stream",
     "text": [
      "[6.065430322881624, 7.716294096997792, 8.481827431580106, 8.503411910827412, 10.341085219674277, 8.509543555980919, 7.351663015190206, 8.2019604416696, 7.642553541862348, 7.71974268042823]\n"
     ]
    }
   ],
   "source": [
    "s2 = np.random.normal( 8 , 1 , 10 ).tolist()\n",
    "print(s2)"
   ]
  },
  {
   "attachments": {},
   "cell_type": "markdown",
   "metadata": {},
   "source": [
    "b) Flip a fair coin 10 times. If the coin lands on H, then pick the last data point of `s1` and remove it from `s1`, if T then pick the last data point from `s2` and remove it from `s2`. Add these 10 points to a list called `data`."
   ]
  },
  {
   "cell_type": "code",
   "execution_count": 90,
   "metadata": {},
   "outputs": [
    {
     "name": "stdout",
     "output_type": "stream",
     "text": [
      "[7.71974268042823, 4.537787615142324, 7.642553541862348, 8.2019604416696, 4.091653733635787, 5.5356298438378175, 6.158016902665992, 7.351663015190206, 4.591631742727878, 8.509543555980919]\n"
     ]
    }
   ],
   "source": [
    "data = []\n",
    "for i in range(10):\n",
    "    # flip coin\n",
    "    coin_output = random.choice([0, 1])\n",
    "    if coin_output == 0:\n",
    "        p1 = s1.pop()\n",
    "        data.append(p1)\n",
    "    else:\n",
    "        p2 = s2.pop()\n",
    "        data.append(p2)\n",
    "print(data)"
   ]
  },
  {
   "cell_type": "markdown",
   "metadata": {},
   "source": [
    "c) This `data` is a Gaussian Mixture Distribution with 2 mixture components. Over the next few questions we will walk through the GMM algorithm to see if we can uncover the parameters we used to generate this data. First, please list all these parameters of the GMM that created `data` and the values we know they have."
   ]
  },
  {
   "cell_type": "markdown",
   "metadata": {},
   "source": [
    "1. Mean\n",
    "2. Variance\n",
    "3. probability"
   ]
  },
  {
   "cell_type": "markdown",
   "metadata": {},
   "source": [
    "d) Let's assume there are two mixture components (note: we could plot the data and make the observation that there are two clusters). The EM algorithm asks us to start with a random `mean_j`, `variance_j`, `P(S_j)` for each component j. One method we could use to find sensible values for these is to apply K means with k=2 here.\n",
    "\n",
    "1. the centroids would be the estimates of the `mean_j`\n",
    "2. the intra-cluster variance could be the estimate of `variance_j`\n",
    "3. the proportion of points in each cluster could be the estimate of `P(S_j)`\n",
    "\n",
    "Go through this process and list the parameter estimates it gives. Are they close or far from the true values?"
   ]
  },
  {
   "cell_type": "code",
   "execution_count": 91,
   "metadata": {},
   "outputs": [
    {
     "name": "stdout",
     "output_type": "stream",
     "text": [
      "[4.537787615142324, 4.091653733635787, 5.5356298438378175, 6.158016902665992, 4.591631742727878]\n",
      "[7.71974268042823, 7.642553541862348, 8.2019604416696, 7.351663015190206, 8.509543555980919]\n",
      "P(S_1) = 0.5,  P(S_2) = 0.5\n",
      "mean_1 = 4.98294396760196,  mean_2 = 7.88509264702626\n",
      "var_1 = 0.5663891594290286,  var_2 = 0.17221142761697253\n"
     ]
    }
   ],
   "source": [
    "kmeans = KMeans(2, init='k-means++').fit(X=np.array(data).reshape(-1, 1))\n",
    "\n",
    "s1 = [x[0] for x in filter(lambda x: x[1] == 0, zip(data, kmeans.labels_))]\n",
    "print(s1)\n",
    "s2 = [x[0] for x in filter(lambda x: x[1] == 1, zip(data, kmeans.labels_))]\n",
    "print(s2)\n",
    "\n",
    "prob_s = [ len(s1) / (len(s1) + len(s2)) , len(s2) / (len(s1) + len(s2)) ]\n",
    "mean = [ sum(s1)/len(s1) , sum(s2)/len(s2) ]\n",
    "var = [ sum(map(lambda x : (x - mean[0])**2, s1)) / len(s1) , sum(map(lambda x : (x - mean[1])**2, s2)) / len(s2) ]\n",
    "\n",
    "print(\"P(S_1) = \" + str(prob_s[0]) + \",  P(S_2) = \" + str(prob_s[1]))\n",
    "print(\"mean_1 = \" + str(mean[0]) + \",  mean_2 = \" + str(mean[1]))\n",
    "print(\"var_1 = \" + str(var[0]) + \",  var_2 = \" + str(var[1]))"
   ]
  },
  {
   "cell_type": "markdown",
   "metadata": {},
   "source": [
    "from the true value, s1 has mean at 5 and variance at 1. Compare with the result from the kmean, the mean is pretty close between 5 and 4.98 and variance_1 has slightly different than the true value between 0.566 and 1. \n",
    "\n",
    "s2 has mean at 8 and variance at 1 as well. Compare with the result, the mean has a huge gap between variance_2 and the true value which is 1. "
   ]
  },
  {
   "cell_type": "markdown",
   "metadata": {},
   "source": [
    "e) For each data point, compute `P(S_j | X_i)`. Comment on which cluster you think each point belongs to based on the estimated probabilities. How does that compare to the truth?"
   ]
  },
  {
   "cell_type": "code",
   "execution_count": 92,
   "metadata": {},
   "outputs": [
    {
     "name": "stdout",
     "output_type": "stream",
     "text": [
      "point =  7.71974268042823\n",
      "probability of observing that point if it came from cluster 0 =  5.9947267113103905e-06\n",
      "probability of observing that point if it came from cluster 1 =  1.4610323726454855\n",
      "point =  4.537787615142324\n",
      "probability of observing that point if it came from cluster 0 =  0.5171991717922071\n",
      "probability of observing that point if it came from cluster 1 =  2.1170637162413817e-82\n",
      "point =  7.642553541862348\n",
      "probability of observing that point if it came from cluster 0 =  1.1474348973372911e-05\n",
      "probability of observing that point if it came from cluster 1 =  0.8592691195376138\n",
      "point =  8.2019604416696\n",
      "probability of observing that point if it came from cluster 0 =  6.818878681025727e-08\n",
      "probability of observing that point if it came from cluster 1 =  0.42626543439436293\n",
      "point =  4.091653733635787\n",
      "probability of observing that point if it came from cluster 0 =  0.20420530264030162\n",
      "probability of observing that point if it came from cluster 1 =  9.995386462882797e-106\n",
      "point =  5.5356298438378175\n",
      "probability of observing that point if it came from cluster 0 =  0.43755046915368556\n",
      "probability of observing that point if it came from cluster 1 =  8.8618951159317e-41\n",
      "point =  6.158016902665992\n",
      "probability of observing that point if it came from cluster 0 =  0.08187177097432699\n",
      "probability of observing that point if it came from cluster 1 =  3.3482824544369046e-22\n",
      "point =  7.351663015190206\n",
      "probability of observing that point if it came from cluster 0 =  0.00011215661938849677\n",
      "probability of observing that point if it came from cluster 1 =  0.01911571524128454\n",
      "point =  4.591631742727878\n",
      "probability of observing that point if it came from cluster 0 =  0.5548104873937616\n",
      "probability of observing that point if it came from cluster 1 =  8.786946057314911e-80\n",
      "point =  8.509543555980919\n",
      "probability of observing that point if it came from cluster 0 =  2.686925343059069e-09\n",
      "probability of observing that point if it came from cluster 1 =  0.0032337830278634737\n",
      "7.71974268042823\n",
      "Probability of coming from S_1 = 4.103059060722972e-06\n",
      "Probability of coming from S_2 = 0.9999958969409393\n",
      "\n",
      "4.537787615142324\n",
      "Probability of coming from S_1 = 1.0\n",
      "Probability of coming from S_2 = 4.093323871547005e-82\n",
      "\n",
      "7.642553541862348\n",
      "Probability of coming from S_1 = 1.3353436648061159e-05\n",
      "Probability of coming from S_2 = 0.9999866465633519\n",
      "\n",
      "8.2019604416696\n",
      "Probability of coming from S_1 = 1.5996787541341324e-07\n",
      "Probability of coming from S_2 = 0.9999998400321246\n",
      "\n",
      "4.091653733635787\n",
      "Probability of coming from S_1 = 1.0\n",
      "Probability of coming from S_2 = 4.894773217759784e-105\n",
      "\n",
      "5.5356298438378175\n",
      "Probability of coming from S_1 = 1.0\n",
      "Probability of coming from S_2 = 2.0253423869188086e-40\n",
      "\n",
      "6.158016902665992\n",
      "Probability of coming from S_1 = 1.0\n",
      "Probability of coming from S_2 = 4.0896665781015595e-21\n",
      "\n",
      "7.351663015190206\n",
      "Probability of coming from S_1 = 0.005833023030379761\n",
      "Probability of coming from S_2 = 0.9941669769696202\n",
      "\n",
      "4.591631742727878\n",
      "Probability of coming from S_1 = 1.0\n",
      "Probability of coming from S_2 = 1.583774326003073e-79\n",
      "\n",
      "8.509543555980919\n",
      "Probability of coming from S_1 = 8.308915865300429e-07\n",
      "Probability of coming from S_2 = 0.9999991691084135\n",
      "\n"
     ]
    }
   ],
   "source": [
    "from scipy.stats import norm\n",
    "\n",
    "prob_s0_x = [] # P(S_0 | X_i)\n",
    "prob_s1_x = [] # P(S_1 | X_i)\n",
    "prob_x = [] # P(X_i)\n",
    "\n",
    "k = 2\n",
    "\n",
    "for p in data:\n",
    "    print(\"point = \", p)\n",
    "    pdf_i = []\n",
    "\n",
    "    for j in range(k):\n",
    "        # P(X_i | S_j)\n",
    "        pdf_i.append(norm.pdf(p, mean[j], var[j]))\n",
    "        print(\"probability of observing that point if it came from cluster \" + str(j) + \" = \", pdf_i[j])\n",
    "        # P(S_j) already computed\n",
    "        prob_s[j]\n",
    "\n",
    "    # P(X_i) = P(S_0)P(X_i | S_0) + P(S_1)P(X_i | S_1)\n",
    "    prob_x = prob_s[0] * pdf_i[0] + prob_s[1] * pdf_i[1]\n",
    "\n",
    "    # P(S_j | X_i) = P(X_i | S_j)P(S_j) / P(X_i)\n",
    "    prob_s0_x.append( pdf_i[0] * prob_s[0] / prob_x )\n",
    "    prob_s1_x.append( pdf_i[1] * prob_s[1] / prob_x )\n",
    "\n",
    "probs = zip(data, prob_s0_x, prob_s1_x)\n",
    "for p in probs:\n",
    "    print(p[0])\n",
    "    print(\"Probability of coming from S_1 = \" + str(p[1]))\n",
    "    print(\"Probability of coming from S_2 = \" + str(p[2]))\n",
    "    print()\n"
   ]
  },
  {
   "cell_type": "markdown",
   "metadata": {},
   "source": [
    "Compare with the true value, the estimated probability is accurate. "
   ]
  },
  {
   "cell_type": "markdown",
   "metadata": {},
   "source": [
    "f) Having computed `P(S_j | X_i)`, update the estimates of `mean_j`, `var_j`, and `P(S_j)`. How different are these values from the original ones you got from K means? briefly comment."
   ]
  },
  {
   "cell_type": "code",
   "execution_count": 93,
   "metadata": {},
   "outputs": [
    {
     "name": "stdout",
     "output_type": "stream",
     "text": [
      "P(S_1) = 0.5,  P(S_2) = 0.5\n",
      "mean_1 = 4.9857141221251196,  mean_2 = 7.88571634793157\n",
      "var_1 = 0.5722847910965683,  var_2 = 0.17208022194077444\n"
     ]
    }
   ],
   "source": [
    "prob_c = [sum(prob_s0_x)/ len(prob_s0_x), sum(prob_s1_x)/ len(prob_s1_x) ]\n",
    "mean = [sum([x[0] * x[1] for x in zip(prob_s0_x, data)]) / sum(prob_s0_x), sum([x[0] * x[1] for x in zip(prob_s1_x, data)]) / sum(prob_s1_x)]\n",
    "var = [ sum([x[0] * (x[1] - mean[0]) ** 2 for x in zip(prob_s0_x, data)]) / sum(prob_s0_x) , sum([x[0] * (x[1] - mean[1]) ** 2 for x in zip(prob_s1_x, data)]) / sum(prob_s1_x) ]\n",
    "\n",
    "print(\"P(S_1) = \" + str(prob_s[0]) + \",  P(S_2) = \" + str(prob_s[1]))\n",
    "print(\"mean_1 = \" + str(mean[0]) + \",  mean_2 = \" + str(mean[1]))\n",
    "print(\"var_1 = \" + str(var[0]) + \",  var_2 = \" + str(var[1]))"
   ]
  },
  {
   "cell_type": "markdown",
   "metadata": {},
   "source": [
    "both mean from the estimated value is almost the same as the result from the previous kmeans and variance from the estimate value also same as the previous value. "
   ]
  },
  {
   "cell_type": "markdown",
   "metadata": {},
   "source": [
    "g) Update `P(S_j | X_i)`. Comment on any differences or lack thereof you observe."
   ]
  },
  {
   "cell_type": "code",
   "execution_count": 94,
   "metadata": {},
   "outputs": [
    {
     "name": "stdout",
     "output_type": "stream",
     "text": [
      "point =  7.71974268042823\n",
      "probability of observing that point if it came from cluster 0 =  7.713370581934518e-06\n",
      "probability of observing that point if it came from cluster 1 =  1.456029180849189\n",
      "point =  4.537787615142324\n",
      "probability of observing that point if it came from cluster 0 =  0.5131800296179214\n",
      "probability of observing that point if it came from cluster 1 =  1.4800989981129845e-82\n",
      "point =  7.642553541862348\n",
      "probability of observing that point if it came from cluster 0 =  1.455927709475456e-05\n",
      "probability of observing that point if it came from cluster 1 =  0.8542435025451742\n",
      "point =  8.2019604416696\n",
      "probability of observing that point if it came from cluster 0 =  9.656235196458925e-08\n",
      "probability of observing that point if it came from cluster 1 =  0.42833669999471585\n",
      "point =  4.091653733635787\n",
      "probability of observing that point if it came from cluster 0 =  0.20573719620672717\n",
      "probability of observing that point if it came from cluster 1 =  6.378100075999531e-106\n",
      "point =  5.5356298438378175\n",
      "probability of observing that point if it came from cluster 0 =  0.43933343847481066\n",
      "probability of observing that point if it came from cluster 1 =  7.323284398497602e-41\n",
      "point =  6.158016902665992\n",
      "probability of observing that point if it came from cluster 0 =  0.08552768221330068\n",
      "probability of observing that point if it came from cluster 1 =  2.9925031006228402e-22\n",
      "point =  7.351663015190206\n",
      "probability of observing that point if it came from cluster 0 =  0.00013547944356481938\n",
      "probability of observing that point if it came from cluster 1 =  0.018778497977671067\n",
      "point =  4.591631742727878\n",
      "probability of observing that point if it came from cluster 0 =  0.5499579281420375\n",
      "probability of observing that point if it came from cluster 1 =  6.206993556636749e-80\n",
      "point =  8.509543555980919\n",
      "probability of observing that point if it came from cluster 0 =  4.0763221039003755e-09\n",
      "probability of observing that point if it came from cluster 1 =  0.0032463518563433987\n",
      "7.71974268042823\n",
      "Probability of coming from S_1 = 5.297510394520455e-06\n",
      "Probability of coming from S_2 = 0.9999947024896054\n",
      "\n",
      "4.537787615142324\n",
      "Probability of coming from S_1 = 1.0\n",
      "Probability of coming from S_2 = 2.884171075821022e-82\n",
      "\n",
      "7.642553541862348\n",
      "Probability of coming from S_1 = 1.7043183723308735e-05\n",
      "Probability of coming from S_2 = 0.9999829568162768\n",
      "\n",
      "8.2019604416696\n",
      "Probability of coming from S_1 = 2.2543557485779566e-07\n",
      "Probability of coming from S_2 = 0.9999997745644252\n",
      "\n",
      "4.091653733635787\n",
      "Probability of coming from S_1 = 1.0\n",
      "Probability of coming from S_2 = 3.100120052958601e-105\n",
      "\n",
      "5.5356298438378175\n",
      "Probability of coming from S_1 = 1.0\n",
      "Probability of coming from S_2 = 1.6669080377585429e-40\n",
      "\n",
      "6.158016902665992\n",
      "Probability of coming from S_1 = 1.0\n",
      "Probability of coming from S_2 = 3.498870802040122e-21\n",
      "\n",
      "7.351663015190206\n",
      "Probability of coming from S_1 = 0.0071629272123751335\n",
      "Probability of coming from S_2 = 0.992837072787625\n",
      "\n",
      "4.591631742727878\n",
      "Probability of coming from S_1 = 1.0\n",
      "Probability of coming from S_2 = 1.1286306168194143e-79\n",
      "\n",
      "8.509543555980919\n",
      "Probability of coming from S_1 = 1.2556608666608556e-06\n",
      "Probability of coming from S_2 = 0.9999987443391333\n",
      "\n"
     ]
    }
   ],
   "source": [
    "prob_s0_x = [] # P(S_0 | X_i)\n",
    "prob_s1_x = [] # P(S_1 | X_i)\n",
    "prob_x = [] # P(X_i)\n",
    "\n",
    "k = 2\n",
    "\n",
    "for p in data:\n",
    "    print(\"point = \", p)\n",
    "    pdf_i = []\n",
    "\n",
    "    for j in range(k):\n",
    "        # P(X_i | S_j)\n",
    "        pdf_i.append(norm.pdf(p, mean[j], var[j]))\n",
    "        print(\"probability of observing that point if it came from cluster \" + str(j) + \" = \", pdf_i[j])\n",
    "        # P(S_j) already computed\n",
    "        prob_s[j]\n",
    "\n",
    "    # P(X_i) = P(S_0)P(X_i | S_0) + P(S_1)P(X_i | S_1)\n",
    "    prob_x = prob_s[0] * pdf_i[0] + prob_s[1] * pdf_i[1]\n",
    "\n",
    "    # P(S_j | X_i) = P(X_i | S_j)P(S_j) / P(X_i)\n",
    "    prob_s0_x.append( pdf_i[0] * prob_s[0] / prob_x )\n",
    "    prob_s1_x.append( pdf_i[1] * prob_s[1] / prob_x )\n",
    "\n",
    "probs = zip(data, prob_s0_x, prob_s1_x)\n",
    "for p in probs:\n",
    "    print(p[0])\n",
    "    print(\"Probability of coming from S_1 = \" + str(p[1]))\n",
    "    print(\"Probability of coming from S_2 = \" + str(p[2]))\n",
    "    print()\n"
   ]
  },
  {
   "cell_type": "markdown",
   "metadata": {},
   "source": [
    "The result is slightly more accurate than the previous one. "
   ]
  },
  {
   "cell_type": "markdown",
   "metadata": {},
   "source": [
    "h) Use `P(S_j | X_i)` to create a hard assignment - label each point as belonging to a specific cluster (0 or 1)"
   ]
  },
  {
   "cell_type": "code",
   "execution_count": 101,
   "metadata": {},
   "outputs": [
    {
     "name": "stdout",
     "output_type": "stream",
     "text": [
      "Cluster 0:  [4.537787615142324, 4.091653733635787, 5.5356298438378175, 6.158016902665992, 4.591631742727878]\n",
      "Cluster 1:  [7.71974268042823, 7.642553541862348, 8.2019604416696, 7.351663015190206, 8.509543555980919]\n"
     ]
    }
   ],
   "source": [
    "assignments = [[] for _ in range(2)]\n",
    "\n",
    "for p1, p2, d in zip(prob_s0_x, prob_s1_x, data): \n",
    "    if p1 > p2: \n",
    "        assignments[0].append(d)\n",
    "    else: \n",
    "        assignments[1].append(d)\n",
    "\n",
    "print(\"Cluster 0: \", assignments[0])\n",
    "print(\"Cluster 1: \", assignments[1])"
   ]
  }
 ],
 "metadata": {
  "kernelspec": {
   "display_name": "Python 3",
   "language": "python",
   "name": "python3"
  },
  "language_info": {
   "codemirror_mode": {
    "name": "ipython",
    "version": 3
   },
   "file_extension": ".py",
   "mimetype": "text/x-python",
   "name": "python",
   "nbconvert_exporter": "python",
   "pygments_lexer": "ipython3",
   "version": "3.11.0"
  },
  "orig_nbformat": 4,
  "vscode": {
   "interpreter": {
    "hash": "e7370f93d1d0cde622a1f8e1c04877d8463912d04d973331ad4851f04de6915a"
   }
  }
 },
 "nbformat": 4,
 "nbformat_minor": 2
}
